{
  "nbformat": 4,
  "nbformat_minor": 0,
  "metadata": {
    "colab": {
      "provenance": [],
      "authorship_tag": "ABX9TyOMBTg6AtvTQcgiXeier2zo",
      "include_colab_link": true
    },
    "kernelspec": {
      "name": "python3",
      "display_name": "Python 3"
    },
    "language_info": {
      "name": "python"
    }
  },
  "cells": [
    {
      "cell_type": "markdown",
      "metadata": {
        "id": "view-in-github",
        "colab_type": "text"
      },
      "source": [
        "<a href=\"https://colab.research.google.com/github/areebuddin251-hub/AIAC/blob/main/LAB_2_2.ipynb\" target=\"_parent\"><img src=\"https://colab.research.google.com/assets/colab-badge.svg\" alt=\"Open In Colab\"/></a>"
      ]
    },
    {
      "cell_type": "markdown",
      "source": [
        "Task0: Write python function to check given number is prime or not\n",
        "Prompt: Generate code to check prime number"
      ],
      "metadata": {
        "id": "C-SZztyZuoSy"
      }
    },
    {
      "cell_type": "code",
      "metadata": {
        "colab": {
          "base_uri": "https://localhost:8080/"
        },
        "id": "aa4a140a",
        "outputId": "00d039c7-86b5-442a-f3e5-ddb4d4986870"
      },
      "source": [
        "def is_prime(number):\n",
        "    \"\"\"\n",
        "    Checks if a given number is prime.\n",
        "\n",
        "    Args:\n",
        "        number: An integer.\n",
        "\n",
        "    Returns:\n",
        "        True if the number is prime, False otherwise.\n",
        "    \"\"\"\n",
        "    if number <= 1:\n",
        "        return False\n",
        "    for i in range(2, int(number**0.5) + 1):\n",
        "        if number % i == 0:\n",
        "            return False\n",
        "    return True\n",
        "\n",
        "# Example usage:\n",
        "num = 17\n",
        "if is_prime(num):\n",
        "    print(f\"{num} is a prime number.\")\n",
        "else:\n",
        "    print(f\"{num} is not a prime number.\")\n",
        "\n",
        "num = 10\n",
        "if is_prime(num):\n",
        "    print(f\"{num} is a prime number.\")\n",
        "else:\n",
        "    print(f\"{num} is not a prime number.\")"
      ],
      "execution_count": 5,
      "outputs": [
        {
          "output_type": "stream",
          "name": "stdout",
          "text": [
            "17 is a prime number.\n",
            "10 is not a prime number.\n"
          ]
        }
      ]
    },
    {
      "cell_type": "markdown",
      "source": [
        "def is_prime(number):\n",
        "\n",
        "The selected code, def is_prime(number):, is the beginning of a Python function definition.\n",
        "\n",
        "def: This keyword is used to define a function in Python.\n",
        "is_prime: This is the name of the function. You can choose descriptive names for your functions.\n",
        "(number): This specifies that the function accepts one argument, which will be referred to as number inside the function.\n",
        ":: This colon marks the end of the function header and indicates that the code block for the function will follow, usually indented.\n",
        "This line essentially tells Python that you are creating a reusable block of code named is_prime that will take one input value."
      ],
      "metadata": {
        "id": "jaHygdW5usZL"
      }
    },
    {
      "cell_type": "markdown",
      "source": [],
      "metadata": {
        "id": "i_N8taUYukom"
      }
    }
  ]
}